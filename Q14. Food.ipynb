{
 "cells": [
  {
   "cell_type": "code",
   "execution_count": 2,
   "id": "d7cf9b32-9083-4610-ae24-29df8059768b",
   "metadata": {},
   "outputs": [
    {
     "name": "stdout",
     "output_type": "stream",
     "text": [
      "Sentence a:\n",
      "Polarity: 1.0\n",
      "Subjectivity: 1.0\n",
      "\n"
     ]
    }
   ],
   "source": [
    "pip install textblob\n",
    "\n",
    "from textblob import TextBlob\n",
    "\n",
    "# Sentence a\n",
    "sentence_a = \"The Food at Radison was awesome\"\n",
    "blob_a = TextBlob(sentence_a)\n",
    "polarity_a = blob_a.sentiment.polarity\n",
    "subjectivity_a = blob_a.sentiment.subjectivity\n",
    "\n",
    "print(\"Sentence a:\")\n",
    "print(\"Polarity:\", polarity_a)\n",
    "print(\"Subjectivity:\", subjectivity_a)\n",
    "print()\n",
    "\n",
    "# Sentence b\n",
    "sentence_b = \"The Food at Radison was very good\"\n",
    "blob_b = TextBlob(sentence_b)\n",
    "polarity_b = blob_b.sentiment.polarity\n",
    "subjectivity_b = blob_b.sentiment.subjectivity\n",
    "\n",
    "print(\"Sentence b:\")\n",
    "print(\"Polarity:\", polarity_b)\n",
    "print(\"Subjectivity:\", subjectivity_b)"
   ]
  },
  {
   "cell_type": "code",
   "execution_count": 7,
   "id": "d0372acf-753f-4941-8a37-e0b791a0ffbd",
   "metadata": {},
   "outputs": [
    {
     "name": "stdout",
     "output_type": "stream",
     "text": [
      "Requirement already satisfied: textblob in c:\\users\\jaydeep\\anaconda3\\lib\\site-packages (0.18.0.post0)\n",
      "Requirement already satisfied: nltk>=3.8 in c:\\users\\jaydeep\\anaconda3\\lib\\site-packages (from textblob) (3.8.1)\n",
      "Requirement already satisfied: click in c:\\users\\jaydeep\\anaconda3\\lib\\site-packages (from nltk>=3.8->textblob) (8.1.7)\n",
      "Requirement already satisfied: joblib in c:\\users\\jaydeep\\anaconda3\\lib\\site-packages (from nltk>=3.8->textblob) (1.2.0)\n",
      "Requirement already satisfied: regex>=2021.8.3 in c:\\users\\jaydeep\\anaconda3\\lib\\site-packages (from nltk>=3.8->textblob) (2023.10.3)\n",
      "Requirement already satisfied: tqdm in c:\\users\\jaydeep\\anaconda3\\lib\\site-packages (from nltk>=3.8->textblob) (4.65.0)\n",
      "Requirement already satisfied: colorama in c:\\users\\jaydeep\\anaconda3\\lib\\site-packages (from click->nltk>=3.8->textblob) (0.4.6)\n",
      "Requirement already satisfied: textblob in c:\\users\\jaydeep\\anaconda3\\lib\\site-packages (0.18.0.post0)\n",
      "Requirement already satisfied: nltk>=3.8 in c:\\users\\jaydeep\\anaconda3\\lib\\site-packages (from textblob) (3.8.1)\n",
      "Requirement already satisfied: click in c:\\users\\jaydeep\\anaconda3\\lib\\site-packages (from nltk>=3.8->textblob) (8.1.7)\n",
      "Requirement already satisfied: joblib in c:\\users\\jaydeep\\anaconda3\\lib\\site-packages (from nltk>=3.8->textblob) (1.2.0)\n",
      "Requirement already satisfied: regex>=2021.8.3 in c:\\users\\jaydeep\\anaconda3\\lib\\site-packages (from nltk>=3.8->textblob) (2023.10.3)\n",
      "Requirement already satisfied: tqdm in c:\\users\\jaydeep\\anaconda3\\lib\\site-packages (from nltk>=3.8->textblob) (4.65.0)\n",
      "Requirement already satisfied: colorama in c:\\users\\jaydeep\\anaconda3\\lib\\site-packages (from click->nltk>=3.8->textblob) (0.4.6)\n",
      "Note: you may need to restart the kernel to use updated packages.\n"
     ]
    }
   ],
   "source": [
    "\n"
   ]
  },
  {
   "cell_type": "code",
   "execution_count": 3,
   "id": "b1859eae-1ca8-44d7-84fe-df548fe31a0d",
   "metadata": {},
   "outputs": [
    {
     "name": "stdout",
     "output_type": "stream",
     "text": [
      "Sentence b:\n",
      "Polarity: 0.9099999999999999\n",
      "Subjectivity: 0.7800000000000001\n"
     ]
    }
   ],
   "source": [
    "\n"
   ]
  },
  {
   "cell_type": "code",
   "execution_count": null,
   "id": "17196815-db45-4404-815b-bcb6e2020e0a",
   "metadata": {},
   "outputs": [],
   "source": []
  }
 ],
 "metadata": {
  "kernelspec": {
   "display_name": "Python 3 (ipykernel)",
   "language": "python",
   "name": "python3"
  },
  "language_info": {
   "codemirror_mode": {
    "name": "ipython",
    "version": 3
   },
   "file_extension": ".py",
   "mimetype": "text/x-python",
   "name": "python",
   "nbconvert_exporter": "python",
   "pygments_lexer": "ipython3",
   "version": "3.11.7"
  }
 },
 "nbformat": 4,
 "nbformat_minor": 5
}
